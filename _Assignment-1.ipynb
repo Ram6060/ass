{
 "cells": [
  {
   "cell_type": "markdown",
   "id": "ee9475ce",
   "metadata": {},
   "source": [
    "# Write a Python program to get the Fibonacci series between 0 to 50\n",
    "\n"
   ]
  },
  {
   "cell_type": "code",
   "execution_count": 7,
   "id": "7f3f4bdc",
   "metadata": {},
   "outputs": [
    {
     "name": "stdout",
     "output_type": "stream",
     "text": [
      "enter the starting number for range:  0\n",
      "enter the ending number for range:  50\n",
      "fibonacci series between 0 to 50 is:  \n",
      "0\n",
      "1\n",
      "1\n",
      "2\n",
      "3\n",
      "5\n",
      "8\n",
      "13\n",
      "21\n",
      "34\n"
     ]
    }
   ],
   "source": [
    "start=int(input(\"enter the starting number for range:  \"))\n",
    "end=int(input(\"enter the ending number for range:  \"))\n",
    "a=0\n",
    "b=1\n",
    "sum=0\n",
    "print(\"fibonacci series between\",start,\"to\" ,end, \"is:  \")\n",
    "while(sum<end):\n",
    "    a=b\n",
    "    b=sum\n",
    "    sum=a+b\n",
    "    print(b)\n",
    "print(end=\"\")"
   ]
  },
  {
   "cell_type": "code",
   "execution_count": null,
   "id": "a4c22027",
   "metadata": {},
   "outputs": [],
   "source": []
  }
 ],
 "metadata": {
  "kernelspec": {
   "display_name": "Python 3 (ipykernel)",
   "language": "python",
   "name": "python3"
  },
  "language_info": {
   "codemirror_mode": {
    "name": "ipython",
    "version": 3
   },
   "file_extension": ".py",
   "mimetype": "text/x-python",
   "name": "python",
   "nbconvert_exporter": "python",
   "pygments_lexer": "ipython3",
   "version": "3.11.1"
  }
 },
 "nbformat": 4,
 "nbformat_minor": 5
}
